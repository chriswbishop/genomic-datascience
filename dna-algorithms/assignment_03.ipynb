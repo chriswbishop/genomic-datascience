{
 "cells": [
  {
   "cell_type": "markdown",
   "metadata": {},
   "source": [
    "## Overview\n",
    "\n",
    "This workbook contains code and notes used to answer week 3's programming assignment."
   ]
  },
  {
   "cell_type": "code",
   "execution_count": 1,
   "metadata": {},
   "outputs": [],
   "source": [
    "# Need to load the genome\n",
    "from Bio.Seq import Seq\n",
    "import Bio.SeqIO\n",
    "\n",
    "genome = list(Bio.SeqIO.parse('chr1.GRCh38.excerpt.fasta', 'fasta')).pop().seq"
   ]
  },
  {
   "cell_type": "code",
   "execution_count": 2,
   "metadata": {},
   "outputs": [],
   "source": [
    "# Prefer to use numpy than a list of lists\n",
    "import numpy as np\n",
    "\n",
    "# We also need an approximate matching algorithm\n",
    "# As mentioned in the programming notes, this is similar to the exact alignment algorithm\n",
    "# but critically, the first row is initialized as zeros.\n",
    "def approximate_match(P, T):\n",
    "    \"\"\"\n",
    "    Adaptation of the edit distance function to do approximate matching\n",
    "    I renamed the variables to be more telling than X/Y.\n",
    "    Also, I leveraged numpy arrays instead of lists of lists,\n",
    "    although there is little difference in efficiency in this case\n",
    "    \n",
    "    Args:\n",
    "        P (str): pattern to match to T\n",
    "        T (str): reference sequence (e.g., genome)\n",
    "    \n",
    "    Returns:\n",
    "        edit_distance (integer): approximate match distance\n",
    "    \"\"\"\n",
    "\n",
    "    # Need len + 1 so we can account for the initialization term\n",
    "    D = np.zeros([len(P)+1, len(T)+1]).astype(int)\n",
    "\n",
    "    D[:, 0] = range(len(P)+1)\n",
    "\n",
    "    for row in range(1, len(P)+1):\n",
    "        for col in range(1, len(T)+1):\n",
    "            dist_vert = D[row-1, col] + 1\n",
    "            dist_hor = D[row, col-1] + 1\n",
    "\n",
    "            # Compare against last alignment\n",
    "            dist_diag = D[row-1, col-1]\n",
    "\n",
    "            # Do the letters mismatch?\n",
    "            if P[row-1] == T[col-1]:\n",
    "                dist_diag += 0\n",
    "            else:\n",
    "                dist_diag += 1\n",
    "\n",
    "            # Finally, assign the distance to this particular cell in the array\n",
    "            D[row, col] = min(dist_vert, dist_hor, dist_diag)\n",
    "\n",
    "    return D[-1, :].min()"
   ]
  },
  {
   "cell_type": "code",
   "execution_count": 3,
   "metadata": {},
   "outputs": [
    {
     "data": {
      "text/plain": [
       "[SeqRecord(seq=Seq('TTGAATGCTGAAATCAGCAGGTAATATATGATAATAGAGAAAGCTATCCCGAAG...AGG', SingleLetterAlphabet()), id='CM000663.2_excerpt', name='CM000663.2_excerpt', description='CM000663.2_excerpt EXCERPT FROM CM000663.2 Homo sapiens chromosome 1, GRCh38 reference primary assembly', dbxrefs=[])]"
      ]
     },
     "execution_count": 3,
     "metadata": {},
     "output_type": "execute_result"
    }
   ],
   "source": [
    "list(Bio.SeqIO.parse('chr1.GRCh38.excerpt.fasta', 'fasta'))"
   ]
  },
  {
   "cell_type": "markdown",
   "metadata": {},
   "source": [
    "## Example 01\n",
    "\n",
    "Example provided in the programming reading section. Testing function above against it to make sure it works as expected"
   ]
  },
  {
   "cell_type": "code",
   "execution_count": 4,
   "metadata": {},
   "outputs": [
    {
     "data": {
      "text/plain": [
       "2"
      ]
     },
     "execution_count": 4,
     "metadata": {},
     "output_type": "execute_result"
    }
   ],
   "source": [
    "P = 'GCGTATGC'\n",
    "T = 'TATTGGCTATACGGTT'\n",
    "\n",
    "approximate_match(P, T)"
   ]
  },
  {
   "cell_type": "markdown",
   "metadata": {},
   "source": [
    "## Question 01"
   ]
  },
  {
   "cell_type": "code",
   "execution_count": 5,
   "metadata": {},
   "outputs": [
    {
     "data": {
      "text/plain": [
       "3"
      ]
     },
     "execution_count": 5,
     "metadata": {},
     "output_type": "execute_result"
    }
   ],
   "source": [
    "P = 'GCTGATCGATCGTACG'\n",
    "approximate_match(P, genome)"
   ]
  },
  {
   "cell_type": "markdown",
   "metadata": {},
   "source": [
    "## Question 02"
   ]
  },
  {
   "cell_type": "code",
   "execution_count": 6,
   "metadata": {},
   "outputs": [
    {
     "data": {
      "text/plain": [
       "2"
      ]
     },
     "execution_count": 6,
     "metadata": {},
     "output_type": "execute_result"
    }
   ],
   "source": [
    "P = 'GATTTACCAGATTGAG'\n",
    "approximate_match(P, genome)"
   ]
  },
  {
   "cell_type": "markdown",
   "metadata": {},
   "source": [
    "## Question 03"
   ]
  },
  {
   "cell_type": "code",
   "execution_count": 7,
   "metadata": {},
   "outputs": [],
   "source": [
    "# This contains all the reads in the file\n",
    "genome = list(Bio.SeqIO.parse('ERR266411_1.for_asm.fastq', 'fastq')) # subset for testing purposes"
   ]
  },
  {
   "cell_type": "code",
   "execution_count": 8,
   "metadata": {},
   "outputs": [
    {
     "data": {
      "text/plain": [
       "SeqRecord(seq=Seq('TAAACAAGCAGTAGTAATTCCTGCTTTATCAAGATAATTTTTCGACTCATCAGA...CTC', SingleLetterAlphabet()), id='ERR266411.1', name='ERR266411.1', description='ERR266411.1 HS18_09233:8:1307:10911:3848#168/1', dbxrefs=[])"
      ]
     },
     "execution_count": 8,
     "metadata": {},
     "output_type": "execute_result"
    }
   ],
   "source": [
    "genome[0]"
   ]
  },
  {
   "cell_type": "code",
   "execution_count": 20,
   "metadata": {},
   "outputs": [],
   "source": [
    "def overlap(seq_suffix, seq_prefix, min_length=3):\n",
    "    \"\"\"\n",
    "    Check to see if the suffix of seq_suffix matches the prefix\n",
    "    of seq_prefix exactly. Note that no differences are tolerated.\n",
    "    \n",
    "    Args:\n",
    "        seq_suffix (str): sequence whose suffix will be compared\n",
    "                          against the seq_prefix\n",
    "        seq_prefix (str): sequence whose prefix will be compared\n",
    "                          against the seq_suffix\n",
    "\n",
    "    Returns:\n",
    "        is_overlap (bool): True if the sequences match exactly\n",
    "                           up to min_length. Otherwise, False\n",
    "    \"\"\"\n",
    "\n",
    "    start = 0  # start all the way at the left\n",
    "\n",
    "    while True:\n",
    "\n",
    "        start = seq_suffix.find(seq_prefix[:min_length], start)  # look for b's prefix in a\n",
    "        if start == -1:  # no more occurrences to right\n",
    "            return 0\n",
    "        # found occurrence; check for full suffix/prefix match\n",
    "        if seq_prefix.startswith(seq_suffix[start:]):\n",
    "            return len(seq_suffix)-start\n",
    "\n",
    "        start += 1"
   ]
  },
  {
   "cell_type": "code",
   "execution_count": 21,
   "metadata": {},
   "outputs": [
    {
     "data": {
      "text/plain": [
       "3"
      ]
     },
     "execution_count": 21,
     "metadata": {},
     "output_type": "execute_result"
    }
   ],
   "source": [
    "overlap('ATGGTC', 'GTCCCC')"
   ]
  },
  {
   "cell_type": "code",
   "execution_count": 66,
   "metadata": {},
   "outputs": [],
   "source": [
    "# As mentioned in question 3, it is very slow to compare all possible combinations of reads from even a small\n",
    "# set of reads. Instead, build an index out of the reads. To shorten our search path, we'll build a custom\n",
    "# index class that will create a lookup for the desired k-mer.\n",
    "#\n",
    "# To do this, I modified previous work using a k-mer index.\n",
    "class ReadDict(object):\n",
    "    \"\"\"\n",
    "    Wanted a lighter-weight way of storing relationships between\n",
    "    IDs and sequences, so decided to create a class.\n",
    "    \n",
    "    Reads are stored as a dict internally.\n",
    "    \"\"\"\n",
    "\n",
    "    def __init__(self, reads):\n",
    "            \n",
    "        self.reads = reads\n",
    "        \n",
    "        self.read_dict = {}\n",
    "        \n",
    "        for seq_record in reads:\n",
    "            \n",
    "            self.read_dict[seq_record.id] = seq_record\n",
    "\n",
    "    def get_read(self, read_id):\n",
    "        \n",
    "        return self.read_dict[read_id]\n",
    "\n",
    "    def get_read_seq(self, read_id):\n",
    "        \n",
    "        return self.read_dict[read_id].seq\n",
    "\n",
    "class Index(object):\n",
    "    \n",
    "    # Build a k-mer index\n",
    "    def __init__(self, reads, k):\n",
    "\n",
    "        # Track k_mer length\n",
    "        self.k = k\n",
    "        \n",
    "        # For every read, build the index\n",
    "        self.index = self._get_read_kmers(reads, k)\n",
    "\n",
    "    def _get_read_kmers(self, reads, k):\n",
    "\n",
    "        k_mers = {}\n",
    "\n",
    "        # Loop through all the reads\n",
    "        for seq_record in reads:\n",
    " \n",
    "            seq = seq_record.seq\n",
    "            seq_id = seq_record.id\n",
    "\n",
    "            for i in range(len(seq) - k + 1):  # for each k-mer\n",
    "\n",
    "                key = str(seq[i:i+k])\n",
    "\n",
    "                if key not in k_mers:\n",
    "                    k_mers[key] = set()\n",
    "\n",
    "                k_mers[key].add(seq_id)\n",
    "\n",
    "        return k_mers\n",
    "\n",
    "\n",
    "# Now, use an index and a ReadDict to do the comparisons\n",
    "def overlap_fast(seq_record, index, read_dict, min_length=3):\n",
    "    \"\"\"\n",
    "    Check to see if the suffix of seq_suffix matches the prefix\n",
    "    of seq_prefix exactly. Note that no differences are tolerated.\n",
    "    \n",
    "    Args:\n",
    "        seq_suffix (str): sequence whose suffix will be compared\n",
    "                          against the seq_prefix\n",
    "        seq_prefix (str): sequence whose prefix will be compared\n",
    "                          against the seq_suffix\n",
    "\n",
    "    Returns:\n",
    "        is_overlap (bool): True if the sequences match exactly\n",
    "                           up to min_length. Otherwise, False\n",
    "    \"\"\"\n",
    "\n",
    "    # Get the suffix length\n",
    "    #  Need instructions here to support multiple input types\n",
    "    if isinstance(seq_record, Bio.SeqRecord.SeqRecord):\n",
    "        suffix = seq_record.seq[-1*min_length:]\n",
    "    elif isinstance(seq_record, (Bio.Seq.Seq, str)):\n",
    "        suffix = seq_record[-1*min_length:]\n",
    "    \n",
    "    # Get a list of sequences to search\n",
    "    #  This will return a list of sequence IDs to compare against\n",
    "    # Note: we need to remove self-referential comparisons\n",
    "    # So, remove the desired seq_record from the set\n",
    "    # This is done using a set difference\n",
    "    seq_subset = index.index[suffix] - {seq_record.id}\n",
    "    \n",
    "    overlap_seq = set()\n",
    "\n",
    "    for seq_id in seq_subset:\n",
    "\n",
    "        # If there's any overlap\n",
    "        if overlap(seq_record.seq, read_dict.get_read_seq(seq_id), min_length) > 0:\n",
    "            \n",
    "            overlap_seq.add(seq_id)\n",
    "\n",
    "    return overlap_seq\n",
    "\n",
    "\n",
    "def overlap_batch(index, read_dict, min_length):\n",
    "    \"\"\"\n",
    "    Batch processing to return the number of overlaps per sequence\n",
    "    \n",
    "    Args:\n",
    "        index (Index): an Index object\n",
    "        read_dict (ReadDict)\n",
    "        min_length (int): minimum overlap length\n",
    "\n",
    "    Returns:\n",
    "        overlap_seq (dict): a dictionary where keys are sequence IDs of suffix\n",
    "                            sequence and the value is a set of overlapping prefix.\n",
    "    \"\"\"\n",
    "\n",
    "    # Start with a dictionary\n",
    "    overlap_seq = {}\n",
    "\n",
    "    # Now that everything is working as anticipated for a single example,\n",
    "    # look through all reads.\n",
    "    for seq_id, seq_record in read_dict.read_dict.items():\n",
    "        \n",
    "        # Start with an empty set\n",
    "        overlap_seq[seq_id] = overlap_fast(seq_record, index, read_dict, min_length)\n",
    "        \n",
    "\n",
    "    return overlap_seq\n",
    "        "
   ]
  },
  {
   "cell_type": "markdown",
   "metadata": {},
   "source": [
    "### Exampe 01\n",
    "\n",
    "Test case to make sure the code is working as expected."
   ]
  },
  {
   "cell_type": "code",
   "execution_count": 91,
   "metadata": {},
   "outputs": [
    {
     "data": {
      "text/plain": [
       "{'ABCDEFG': set(), 'EFGHIJ': set(), 'HIJABC': set()}"
      ]
     },
     "execution_count": 91,
     "metadata": {},
     "output_type": "execute_result"
    }
   ],
   "source": [
    "reads = [Bio.SeqRecord.SeqRecord(id=seq, seq=seq) for i, seq in enumerate(iter(['ABCDEFG', 'EFGHIJ', 'HIJABC']))]\n",
    "\n",
    "min_length = 4\n",
    "index = Index(reads, min_length)\n",
    "read_dict = ReadDict(reads)\n",
    "# read_dict.read_dict\n",
    "overlap_batch(index, read_dict, min_length)\n",
    "\n",
    "# So, no overlaps"
   ]
  },
  {
   "cell_type": "code",
   "execution_count": 92,
   "metadata": {},
   "outputs": [
    {
     "data": {
      "text/plain": [
       "{'ABCDEFG': {'EFGHIJ'}, 'EFGHIJ': {'HIJABC'}, 'HIJABC': {'ABCDEFG'}}"
      ]
     },
     "execution_count": 92,
     "metadata": {},
     "output_type": "execute_result"
    }
   ],
   "source": [
    "min_length = 3\n",
    "index = Index(reads, min_length)\n",
    "read_dict = ReadDict(reads)\n",
    "# read_dict.read_dict\n",
    "overlap_batch(index, read_dict, min_length)"
   ]
  },
  {
   "cell_type": "markdown",
   "metadata": {},
   "source": [
    "### Example 02"
   ]
  },
  {
   "cell_type": "code",
   "execution_count": 93,
   "metadata": {},
   "outputs": [
    {
     "data": {
      "text/plain": [
       "{'CGTACG': {'GTACGA', 'GTACGT', 'TACGAT', 'TACGTA'},\n",
       " 'TACGTA': {'ACGTAC', 'CGTACG'},\n",
       " 'GTACGT': {'ACGTAC', 'TACGTA'},\n",
       " 'ACGTAC': {'CGTACG', 'GTACGA', 'GTACGT'},\n",
       " 'GTACGA': {'TACGAT'},\n",
       " 'TACGAT': set()}"
      ]
     },
     "execution_count": 93,
     "metadata": {},
     "output_type": "execute_result"
    }
   ],
   "source": [
    "reads = [Bio.SeqRecord.SeqRecord(id=seq, seq=seq) for i, seq in enumerate(iter(['CGTACG', 'TACGTA', 'GTACGT', 'ACGTAC', 'GTACGA', 'TACGAT']))]\n",
    "\n",
    "min_length = 4\n",
    "index = Index(reads, min_length)\n",
    "read_dict = ReadDict(reads)\n",
    "# read_dict.read_dict\n",
    "overlap_batch(index, read_dict, min_length)\n",
    "\n",
    "# So, no overlaps"
   ]
  },
  {
   "cell_type": "code",
   "execution_count": 94,
   "metadata": {},
   "outputs": [
    {
     "data": {
      "text/plain": [
       "{'CGTACG': {'GTACGA', 'GTACGT'},\n",
       " 'TACGTA': {'ACGTAC'},\n",
       " 'GTACGT': {'TACGTA'},\n",
       " 'ACGTAC': {'CGTACG'},\n",
       " 'GTACGA': {'TACGAT'},\n",
       " 'TACGAT': set()}"
      ]
     },
     "execution_count": 94,
     "metadata": {},
     "output_type": "execute_result"
    }
   ],
   "source": [
    "min_length = 5\n",
    "index = Index(reads, min_length)\n",
    "read_dict = ReadDict(reads)\n",
    "# read_dict.read_dict\n",
    "overlap_batch(index, read_dict, min_length)"
   ]
  },
  {
   "cell_type": "code",
   "execution_count": 95,
   "metadata": {},
   "outputs": [],
   "source": [
    "# Build the index\n",
    "min_length = 30\n",
    "\n",
    "# This is costly to build initially\n",
    "index = Index(genome, min_length)\n",
    "read_dict = ReadDict(genome)"
   ]
  },
  {
   "cell_type": "code",
   "execution_count": 96,
   "metadata": {},
   "outputs": [
    {
     "name": "stderr",
     "output_type": "stream",
     "text": [
      "/Users/cbishop/.virtualenvs/python3new/lib/python3.6/site-packages/Bio/Seq.py:163: BiopythonWarning: Biopython Seq objects now use string comparison. Older versions of Biopython used object comparison. During this transition, please use hash(id(my_seq)) or my_dict[id(my_seq)] if you want the old behaviour, or use hash(str(my_seq)) or my_dict[str(my_seq)] for the new string hashing behaviour.\n",
      "  \"the new string hashing behaviour.\", BiopythonWarning)\n"
     ]
    }
   ],
   "source": [
    "overlap_seq = overlap_batch(index, read_dict, min_length=30)"
   ]
  },
  {
   "cell_type": "code",
   "execution_count": 97,
   "metadata": {},
   "outputs": [
    {
     "data": {
      "text/plain": [
       "904746"
      ]
     },
     "execution_count": 97,
     "metadata": {},
     "output_type": "execute_result"
    }
   ],
   "source": [
    "# Count the edges\n",
    "edge_count = 0\n",
    "for key, val in overlap_seq.items():\n",
    "    edge_count += len(val)\n",
    "edge_count"
   ]
  },
  {
   "cell_type": "code",
   "execution_count": 98,
   "metadata": {},
   "outputs": [
    {
     "data": {
      "text/plain": [
       "7161"
      ]
     },
     "execution_count": 98,
     "metadata": {},
     "output_type": "execute_result"
    }
   ],
   "source": [
    "node_count = 0\n",
    "for key, val in overlap_seq.items():\n",
    "    if len(val) > 0:\n",
    "        node_count += 1\n",
    "node_count"
   ]
  }
 ],
 "metadata": {
  "kernelspec": {
   "display_name": "Python 3",
   "language": "python",
   "name": "python3"
  },
  "language_info": {
   "codemirror_mode": {
    "name": "ipython",
    "version": 3
   },
   "file_extension": ".py",
   "mimetype": "text/x-python",
   "name": "python",
   "nbconvert_exporter": "python",
   "pygments_lexer": "ipython3",
   "version": "3.6.4"
  }
 },
 "nbformat": 4,
 "nbformat_minor": 2
}
