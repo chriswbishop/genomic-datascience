{
 "cells": [
  {
   "cell_type": "markdown",
   "metadata": {},
   "source": [
    "## Overview\n",
    "\n",
    "This workbook contains code and notes used to answer week 3's programming assignment."
   ]
  },
  {
   "cell_type": "code",
   "execution_count": 1,
   "metadata": {},
   "outputs": [],
   "source": [
    "# Need to load the genome\n",
    "from Bio.Seq import Seq\n",
    "import Bio.SeqIO\n",
    "\n",
    "genome = list(Bio.SeqIO.parse('chr1.GRCh38.excerpt.fasta', 'fasta')).pop().seq"
   ]
  },
  {
   "cell_type": "code",
   "execution_count": 50,
   "metadata": {},
   "outputs": [],
   "source": [
    "# Prefer to use numpy than a list of lists\n",
    "import numpy as np\n",
    "\n",
    "# We also need an approximate matching algorithm\n",
    "# As mentioned in the programming notes, this is similar to the exact alignment algorithm\n",
    "# but critically, the first row is initialized as zeros.\n",
    "def approximate_match(P, T):\n",
    "    \"\"\"\n",
    "    Adaptation of the edit distance function to do approximate matching\n",
    "    I renamed the variables to be more telling than X/Y.\n",
    "    Also, I leveraged numpy arrays instead of lists of lists,\n",
    "    although there is little difference in efficiency in this case\n",
    "    \n",
    "    Args:\n",
    "        P (str): pattern to match to T\n",
    "        T (str): reference sequence (e.g., genome)\n",
    "    \n",
    "    Returns:\n",
    "        edit_distance (integer): approximate match distance\n",
    "    \"\"\"\n",
    "\n",
    "    # Need len + 1 so we can account for the initialization term\n",
    "    D = np.zeros([len(P)+1, len(T)+1]).astype(int)\n",
    "\n",
    "    D[:, 0] = range(len(P)+1)\n",
    "\n",
    "    for row in range(1, len(P)+1):\n",
    "        for col in range(1, len(T)+1):\n",
    "            dist_vert = D[row-1, col] + 1\n",
    "            dist_hor = D[row, col-1] + 1\n",
    "\n",
    "            # Compare against last alignment\n",
    "            dist_diag = D[row-1, col-1]\n",
    "\n",
    "            # Do the letters mismatch?\n",
    "            if P[row-1] == T[col-1]:\n",
    "                dist_diag += 0\n",
    "            else:\n",
    "                dist_diag += 1\n",
    "\n",
    "            # Finally, assign the distance to this particular cell in the array\n",
    "            D[row, col] = min(dist_vert, dist_hor, dist_diag)\n",
    "\n",
    "    return D[-1, :].min()"
   ]
  },
  {
   "cell_type": "markdown",
   "metadata": {},
   "source": [
    "## Example 01\n",
    "\n",
    "Example provided in the programming reading section. Testing function above against it to make sure it works as expected"
   ]
  },
  {
   "cell_type": "code",
   "execution_count": 52,
   "metadata": {},
   "outputs": [
    {
     "data": {
      "text/plain": [
       "2"
      ]
     },
     "execution_count": 52,
     "metadata": {},
     "output_type": "execute_result"
    }
   ],
   "source": [
    "P = 'GCGTATGC'\n",
    "T = 'TATTGGCTATACGGTT'\n",
    "\n",
    "approximate_match(P, T)"
   ]
  },
  {
   "cell_type": "markdown",
   "metadata": {},
   "source": [
    "## Question 01"
   ]
  },
  {
   "cell_type": "code",
   "execution_count": 58,
   "metadata": {},
   "outputs": [
    {
     "data": {
      "text/plain": [
       "3"
      ]
     },
     "execution_count": 58,
     "metadata": {},
     "output_type": "execute_result"
    }
   ],
   "source": [
    "P = 'GCTGATCGATCGTACG'\n",
    "approximate_match(P, genome)"
   ]
  },
  {
   "cell_type": "markdown",
   "metadata": {},
   "source": [
    "## Question 02"
   ]
  },
  {
   "cell_type": "code",
   "execution_count": null,
   "metadata": {},
   "outputs": [],
   "source": [
    "P = 'GATTTACCAGATTGAG'\n",
    "approximate_match(P, genome)"
   ]
  },
  {
   "cell_type": "code",
   "execution_count": 48,
   "metadata": {},
   "outputs": [],
   "source": [
    "\n",
    "# Need len + 1 so we can account for the initialization term\n",
    "D = np.zeros([len(P)+1, len(T)+1]).astype(int)\n",
    "\n",
    "D[:, 0] = range(len(P)+1)\n",
    "\n",
    "for row in range(1, len(P)+1):\n",
    "    for col in range(1, len(T)+1):\n",
    "        dist_vert = D[row-1, col] + 1\n",
    "        dist_hor = D[row, col-1] + 1\n",
    "\n",
    "        # Compare against last alignment\n",
    "        dist_diag = D[row-1, col-1]\n",
    "\n",
    "        # Do the letters mismatch?\n",
    "        if P[row-1] == T[col-1]:\n",
    "            dist_diag += 0\n",
    "        else:\n",
    "            dist_diag += 1\n",
    "\n",
    "        # Finally, assign the distance to this particular cell in the array\n",
    "        D[row, col] = min(dist_vert, dist_hor, dist_diag)"
   ]
  },
  {
   "cell_type": "code",
   "execution_count": 49,
   "metadata": {},
   "outputs": [
    {
     "data": {
      "text/plain": [
       "array([[0, 0, 0, 0, 0, 0, 0, 0, 0, 0, 0, 0, 0, 0, 0, 0, 0],\n",
       "       [1, 1, 1, 1, 1, 0, 0, 1, 1, 1, 1, 1, 1, 0, 0, 1, 1],\n",
       "       [2, 2, 2, 2, 2, 1, 1, 0, 1, 2, 2, 2, 1, 1, 1, 1, 2],\n",
       "       [3, 3, 3, 3, 3, 2, 1, 1, 1, 2, 3, 3, 2, 1, 1, 2, 2],\n",
       "       [4, 3, 4, 3, 3, 3, 2, 2, 1, 2, 2, 3, 3, 2, 2, 1, 2],\n",
       "       [5, 4, 3, 4, 4, 4, 3, 3, 2, 1, 2, 2, 3, 3, 3, 2, 2],\n",
       "       [6, 5, 4, 3, 4, 5, 4, 4, 3, 2, 1, 2, 3, 4, 4, 3, 2],\n",
       "       [7, 6, 5, 4, 4, 4, 5, 5, 4, 3, 2, 2, 3, 3, 4, 4, 3],\n",
       "       [8, 7, 6, 5, 5, 5, 5, 5, 5, 4, 3, 3, 2, 3, 4, 5, 4]])"
      ]
     },
     "execution_count": 49,
     "metadata": {},
     "output_type": "execute_result"
    }
   ],
   "source": [
    "D"
   ]
  },
  {
   "cell_type": "code",
   "execution_count": null,
   "metadata": {},
   "outputs": [],
   "source": []
  }
 ],
 "metadata": {
  "kernelspec": {
   "display_name": "Python 3",
   "language": "python",
   "name": "python3"
  },
  "language_info": {
   "codemirror_mode": {
    "name": "ipython",
    "version": 3
   },
   "file_extension": ".py",
   "mimetype": "text/x-python",
   "name": "python",
   "nbconvert_exporter": "python",
   "pygments_lexer": "ipython3",
   "version": "3.6.4"
  }
 },
 "nbformat": 4,
 "nbformat_minor": 2
}
