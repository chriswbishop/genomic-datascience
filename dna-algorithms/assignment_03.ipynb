{
 "cells": [
  {
   "cell_type": "markdown",
   "metadata": {},
   "source": [
    "## Overview\n",
    "\n",
    "This workbook contains code and notes used to answer week 3's programming assignment."
   ]
  },
  {
   "cell_type": "code",
   "execution_count": 1,
   "metadata": {},
   "outputs": [],
   "source": [
    "# Need to load the genome\n",
    "from Bio.Seq import Seq\n",
    "import Bio.SeqIO\n",
    "\n",
    "genome = list(Bio.SeqIO.parse('chr1.GRCh38.excerpt.fasta', 'fasta')).pop().seq"
   ]
  },
  {
   "cell_type": "code",
   "execution_count": 50,
   "metadata": {},
   "outputs": [],
   "source": [
    "# Prefer to use numpy than a list of lists\n",
    "import numpy as np\n",
    "\n",
    "# We also need an approximate matching algorithm\n",
    "# As mentioned in the programming notes, this is similar to the exact alignment algorithm\n",
    "# but critically, the first row is initialized as zeros.\n",
    "def approximate_match(P, T):\n",
    "    \"\"\"\n",
    "    Adaptation of the edit distance function to do approximate matching\n",
    "    I renamed the variables to be more telling than X/Y.\n",
    "    Also, I leveraged numpy arrays instead of lists of lists,\n",
    "    although there is little difference in efficiency in this case\n",
    "    \n",
    "    Args:\n",
    "        P (str): pattern to match to T\n",
    "        T (str): reference sequence (e.g., genome)\n",
    "    \n",
    "    Returns:\n",
    "        edit_distance (integer): approximate match distance\n",
    "    \"\"\"\n",
    "\n",
    "    # Need len + 1 so we can account for the initialization term\n",
    "    D = np.zeros([len(P)+1, len(T)+1]).astype(int)\n",
    "\n",
    "    D[:, 0] = range(len(P)+1)\n",
    "\n",
    "    for row in range(1, len(P)+1):\n",
    "        for col in range(1, len(T)+1):\n",
    "            dist_vert = D[row-1, col] + 1\n",
    "            dist_hor = D[row, col-1] + 1\n",
    "\n",
    "            # Compare against last alignment\n",
    "            dist_diag = D[row-1, col-1]\n",
    "\n",
    "            # Do the letters mismatch?\n",
    "            if P[row-1] == T[col-1]:\n",
    "                dist_diag += 0\n",
    "            else:\n",
    "                dist_diag += 1\n",
    "\n",
    "            # Finally, assign the distance to this particular cell in the array\n",
    "            D[row, col] = min(dist_vert, dist_hor, dist_diag)\n",
    "\n",
    "    return D[-1, :].min()"
   ]
  },
  {
   "cell_type": "code",
   "execution_count": 68,
   "metadata": {},
   "outputs": [
    {
     "data": {
      "text/plain": [
       "'CM000663.2_excerpt'"
      ]
     },
     "execution_count": 68,
     "metadata": {},
     "output_type": "execute_result"
    }
   ],
   "source": [
    "list(Bio.SeqIO.parse('chr1.GRCh38.excerpt.fasta', 'fasta'))"
   ]
  },
  {
   "cell_type": "markdown",
   "metadata": {},
   "source": [
    "## Example 01\n",
    "\n",
    "Example provided in the programming reading section. Testing function above against it to make sure it works as expected"
   ]
  },
  {
   "cell_type": "code",
   "execution_count": 52,
   "metadata": {},
   "outputs": [
    {
     "data": {
      "text/plain": [
       "2"
      ]
     },
     "execution_count": 52,
     "metadata": {},
     "output_type": "execute_result"
    }
   ],
   "source": [
    "P = 'GCGTATGC'\n",
    "T = 'TATTGGCTATACGGTT'\n",
    "\n",
    "approximate_match(P, T)"
   ]
  },
  {
   "cell_type": "markdown",
   "metadata": {},
   "source": [
    "## Question 01"
   ]
  },
  {
   "cell_type": "code",
   "execution_count": 58,
   "metadata": {},
   "outputs": [
    {
     "data": {
      "text/plain": [
       "3"
      ]
     },
     "execution_count": 58,
     "metadata": {},
     "output_type": "execute_result"
    }
   ],
   "source": [
    "P = 'GCTGATCGATCGTACG'\n",
    "approximate_match(P, genome)"
   ]
  },
  {
   "cell_type": "markdown",
   "metadata": {},
   "source": [
    "## Question 02"
   ]
  },
  {
   "cell_type": "code",
   "execution_count": 60,
   "metadata": {},
   "outputs": [
    {
     "data": {
      "text/plain": [
       "2"
      ]
     },
     "execution_count": 60,
     "metadata": {},
     "output_type": "execute_result"
    }
   ],
   "source": [
    "P = 'GATTTACCAGATTGAG'\n",
    "approximate_match(P, genome)"
   ]
  },
  {
   "cell_type": "markdown",
   "metadata": {},
   "source": [
    "## Question 03"
   ]
  },
  {
   "cell_type": "code",
   "execution_count": null,
   "metadata": {},
   "outputs": [],
   "source": [
    "genome = list(Bio.SeqIO.parse('chr1.GRCh38.excerpt.fasta', 'fasta')).pop().seq"
   ]
  },
  {
   "cell_type": "code",
   "execution_count": 61,
   "metadata": {},
   "outputs": [],
   "source": [
    "def overlap(seq_suffix, seq_prefix, min_length=3):\n",
    "    \"\"\"\n",
    "    Check to see if the suffix of seq_suffix matches the prefix\n",
    "    of seq_prefix exactly. Note that no differences are tolerated.\n",
    "    \n",
    "    Args:\n",
    "        seq_suffix (str): sequence whose suffix will be compared\n",
    "                          against the seq_prefix\n",
    "        seq_prefix (str): sequence whose prefix will be compared\n",
    "                          against the seq_suffix\n",
    "\n",
    "    Returns:\n",
    "        is_overlap (bool): True if the sequences match exactly\n",
    "                           up to min_length. Otherwise, False\n",
    "    \"\"\"\n",
    "\n",
    "    start = 0  # start all the way at the left\n",
    "\n",
    "    while True:\n",
    "        # \n",
    "        start = seq_suffix.find(seq_prefix[:min_length], start)  # look for b's prefix in a\n",
    "        if start == -1:  # no more occurrences to right\n",
    "            return False\n",
    "        # found occurrence; check for full suffix/prefix match\n",
    "        if seq_prefix.startswith(seq_suffix[start:]):\n",
    "            return True\n",
    "\n",
    "        start += 1"
   ]
  },
  {
   "cell_type": "code",
   "execution_count": 70,
   "metadata": {},
   "outputs": [],
   "source": [
    "# As mentioned in question 3, it is very slow to compare all possible combinations of reads from even a small\n",
    "# set of reads. Instead, build an index out of the reads. To shorten our search path, we'll build a custom\n",
    "# index class that will create a lookup for the desired k-mer.\n",
    "#\n",
    "# To do this, I modified previous work using a k-mer index.\n",
    "class Index(object):\n",
    "    \n",
    "    # Build a k-mer index\n",
    "    def __init__(self, genome, k):\n",
    "\n",
    "        # Track k_mer length\n",
    "        self.k = k\n",
    "        \n",
    "        # For every read, build the index\n",
    "\n",
    "    def _get_read_kmers(seq, k):\n",
    "\n",
    "        k_mers = set()\n",
    "\n",
    "        for i in range(len(t) - k + 1):  # for each k-mer\n",
    "            k_mers.add((t[i:i+k], i))  # add (k-mer, offset) pair\n",
    "\n",
    "        return k_mers\n",
    "\n",
    "#         self.index.sort()  # alphabetize by k-mer\n",
    "    # Identify sequences that contain"
   ]
  },
  {
   "cell_type": "code",
   "execution_count": null,
   "metadata": {},
   "outputs": [],
   "source": []
  }
 ],
 "metadata": {
  "kernelspec": {
   "display_name": "Python 3",
   "language": "python",
   "name": "python3"
  },
  "language_info": {
   "codemirror_mode": {
    "name": "ipython",
    "version": 3
   },
   "file_extension": ".py",
   "mimetype": "text/x-python",
   "name": "python",
   "nbconvert_exporter": "python",
   "pygments_lexer": "ipython3",
   "version": "3.6.4"
  }
 },
 "nbformat": 4,
 "nbformat_minor": 2
}
