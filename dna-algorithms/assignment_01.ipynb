{
 "cells": [
  {
   "cell_type": "markdown",
   "metadata": {},
   "source": [
    "### Code and Sanity Checks"
   ]
  },
  {
   "cell_type": "code",
   "execution_count": 1,
   "metadata": {},
   "outputs": [
    {
     "name": "stdout",
     "output_type": "stream",
     "text": [
      "--2018-12-22 21:50:47--  https://d28rh4a8wq0iu5.cloudfront.net/ads1/data/lambda_virus.fa\n",
      "Resolving d28rh4a8wq0iu5.cloudfront.net... 52.85.83.57, 52.85.83.80, 52.85.83.108, ...\n",
      "Connecting to d28rh4a8wq0iu5.cloudfront.net|52.85.83.57|:443... connected.\n",
      "HTTP request sent, awaiting response... 200 OK\n",
      "Length: 49270 (48K) [application/octet-stream]\n",
      "Saving to: ‘lambda_virus.fa.2’\n",
      "\n",
      "lambda_virus.fa.2   100%[===================>]  48.12K  --.-KB/s    in 0.02s   \n",
      "\n",
      "2018-12-22 21:50:47 (2.94 MB/s) - ‘lambda_virus.fa.2’ saved [49270/49270]\n",
      "\n"
     ]
    }
   ],
   "source": [
    "# Download data\n",
    "!wget --no-check https://d28rh4a8wq0iu5.cloudfront.net/ads1/data/lambda_virus.fa"
   ]
  },
  {
   "cell_type": "code",
   "execution_count": 2,
   "metadata": {},
   "outputs": [],
   "source": [
    "from Bio.Seq import Seq\n",
    "import Bio.SeqIO\n",
    "\n",
    "# Leverage what I wrote in a previous course\n",
    "def find_seq(seq, codon, n=0, codon_index=[]):\n",
    "    \"\"\"\n",
    "    Recursively searches a sequence and returns the\n",
    "    start location of the specified codon.\n",
    "\n",
    "    Note: code supports arbitrary sequences and lengths.\n",
    "          So, \"codon\" here is perhaps too application\n",
    "          specific.\n",
    "\n",
    "    Args:\n",
    "        seq (sequence): nucleotide sequence\n",
    "        codon (str): triplet codon to search for\n",
    "        n (int): starting index for search (0)\n",
    "        codon_index (list): list to store start locations\n",
    "                            Used as a passthrough for index\n",
    "                            tracking/appending.\n",
    "\n",
    "    Returns:\n",
    "        codon_index (list): list of start locations\n",
    "    \"\"\"\n",
    "\n",
    "    # Find the first instance of a start codon\n",
    "    _seq = seq[n:].upper()\n",
    "\n",
    "    if n == 0:\n",
    "\n",
    "        codon_index = []\n",
    "\n",
    "        # Case standardization\n",
    "        codon = codon.upper()\n",
    "\n",
    "    # Find the next instance of the specified codon\n",
    "    index = _seq.find(codon)\n",
    "\n",
    "    if index != -1:\n",
    "\n",
    "        codon_index.append(n + index)\n",
    "\n",
    "        return find_seq(seq, codon, n + index+1, codon_index)\n",
    "\n",
    "    elif index == -1:\n",
    "\n",
    "        return codon_index"
   ]
  },
  {
   "cell_type": "code",
   "execution_count": 3,
   "metadata": {},
   "outputs": [],
   "source": [
    "genome = list(Bio.SeqIO.parse('lambda_virus.fa', 'fasta')).pop().seq"
   ]
  },
  {
   "cell_type": "code",
   "execution_count": 4,
   "metadata": {},
   "outputs": [],
   "source": [
    "# Implement naive_rc\n",
    "def naive_rc(reference, target, unique_only=False):\n",
    "    \"\"\"\n",
    "    Naive, exact-matching algo that checks forward and reverse\n",
    "    strand for matching.\n",
    "    \n",
    "    Args:\n",
    "        reference (Seq): reference genome\n",
    "        target (Seq): target sequence\n",
    "\n",
    "    Returns:\n",
    "        occurences (list): list of occurences\n",
    "    \"\"\"\n",
    "    \n",
    "    # Match forward direction\n",
    "    forward = find_seq(reference, target)\n",
    "    \n",
    "    # If the reverse complement is identical to the original\n",
    "    # sequence, don't double count\n",
    "    if target != target.reverse_complement():        \n",
    "        # Find reverse complement matches\n",
    "        reverse = find_seq(reference, target.reverse_complement())\n",
    "    else:\n",
    "        reverse = []\n",
    "    \n",
    "    # Return only unique elements\n",
    "    if unique_only:\n",
    "        return list(set(forward + reverse))\n",
    "    else:\n",
    "        return forward + reverse\n",
    "\n",
    "\n",
    "# Question 5 requires something slightly different (mismatch tolerance)\n",
    "def naive_mismatch(reference, target, n_mismatch=2):\n",
    "    \"\"\"\n",
    "    Modified version of naive, exact-match algo.\n",
    "    \n",
    "    Args:\n",
    "        reference (Seq): reference genome\n",
    "        target (Seq): target sequence\n",
    "\n",
    "    Returns:\n",
    "        occurences (list): list of occurences\n",
    "    \"\"\"\n",
    "\n",
    "    occurrences = []\n",
    "    for i in range(len(reference) - len(target) + 1):  # loop over alignments\n",
    "        match = True\n",
    "        \n",
    "        # Track mismatch count\n",
    "        mismatch = 0\n",
    "\n",
    "        for j in range(len(target)):\n",
    "            if reference[i+j] != target[j]:\n",
    "                mismatch += 1\n",
    "\n",
    "            if mismatch > n_mismatch:\n",
    "                match = False\n",
    "                break\n",
    "\n",
    "        if match:\n",
    "            occurrences.append(i)  # all chars matched; record\n",
    "\n",
    "    return occurrences"
   ]
  },
  {
   "cell_type": "code",
   "execution_count": 5,
   "metadata": {},
   "outputs": [
    {
     "data": {
      "text/plain": [
       "[0, 13, 3]"
      ]
     },
     "execution_count": 5,
     "metadata": {},
     "output_type": "execute_result"
    }
   ],
   "source": [
    "naive_rc(Seq('GGGCCCGTGCAATGGG'), Seq('GGG'))"
   ]
  },
  {
   "cell_type": "markdown",
   "metadata": {},
   "source": [
    "### Examples Provided in Course"
   ]
  },
  {
   "cell_type": "code",
   "execution_count": 6,
   "metadata": {},
   "outputs": [
    {
     "data": {
      "text/plain": [
       "[10, 23]"
      ]
     },
     "execution_count": 6,
     "metadata": {},
     "output_type": "execute_result"
    }
   ],
   "source": [
    "# Example 1\n",
    "\n",
    "p = 'CCC'\n",
    "ten_as = 'AAAAAAAAAA'\n",
    "t = ten_as + 'CCC' + ten_as + 'GGG' + ten_as\n",
    "\n",
    "naive_rc(Seq(t), Seq(p))"
   ]
  },
  {
   "cell_type": "code",
   "execution_count": 7,
   "metadata": {},
   "outputs": [
    {
     "data": {
      "text/plain": [
       "[10, 24]"
      ]
     },
     "execution_count": 7,
     "metadata": {},
     "output_type": "execute_result"
    }
   ],
   "source": [
    "# Example 2\n",
    "p = 'CGCG'\n",
    "t = ten_as + 'CGCG' + ten_as + 'CGCG' + ten_as\n",
    "Seq(p).reverse_complement() == Seq(p)\n",
    "naive_rc(Seq(t), Seq(p))"
   ]
  },
  {
   "cell_type": "code",
   "execution_count": 8,
   "metadata": {},
   "outputs": [
    {
     "name": "stdout",
     "output_type": "stream",
     "text": [
      "--2018-12-22 21:50:47--  http://d396qusza40orc.cloudfront.net/ads1/data/phix.fa\n",
      "Resolving d396qusza40orc.cloudfront.net... 52.85.83.112, 52.85.83.100, 52.85.83.50, ...\n",
      "Connecting to d396qusza40orc.cloudfront.net|52.85.83.112|:80... connected.\n",
      "HTTP request sent, awaiting response... 200 OK\n",
      "Length: 5528 (5.4K) [application/octet-stream]\n",
      "Saving to: ‘phix.fa’\n",
      "\n",
      "phix.fa             100%[===================>]   5.40K  --.-KB/s    in 0.002s  \n",
      "\n",
      "2018-12-22 21:50:47 (3.44 MB/s) - ‘phix.fa’ saved [5528/5528]\n",
      "\n"
     ]
    },
    {
     "data": {
      "text/plain": [
       "62"
      ]
     },
     "execution_count": 8,
     "metadata": {},
     "output_type": "execute_result"
    }
   ],
   "source": [
    "# Example 3\n",
    "!wget http://d396qusza40orc.cloudfront.net/ads1/data/phix.fa\n",
    "phix_genome = list(Bio.SeqIO.parse('phix.fa', 'fasta')).pop().seq\n",
    "occurrences = naive_rc(phix_genome, Seq('ATTA'))\n",
    "min(occurrences)"
   ]
  },
  {
   "cell_type": "code",
   "execution_count": 9,
   "metadata": {},
   "outputs": [
    {
     "data": {
      "text/plain": [
       "[10, 24, 38]"
      ]
     },
     "execution_count": 9,
     "metadata": {},
     "output_type": "execute_result"
    }
   ],
   "source": [
    "# Example 1\n",
    "p = 'CTGT'\n",
    "ten_as = 'AAAAAAAAAA'\n",
    "t = ten_as + 'CTGT' + ten_as + 'CTTT' + ten_as + 'CGGG' + ten_as\n",
    "naive_mismatch(t, p)"
   ]
  },
  {
   "cell_type": "code",
   "execution_count": 10,
   "metadata": {},
   "outputs": [
    {
     "data": {
      "text/plain": [
       "10"
      ]
     },
     "execution_count": 10,
     "metadata": {},
     "output_type": "execute_result"
    }
   ],
   "source": [
    "# Example 2\n",
    "p = 'GATTACA'\n",
    "t = str(phix_genome)\n",
    "\n",
    "occurrences = naive_mismatch(t, p)\n",
    "min(occurrences)"
   ]
  },
  {
   "cell_type": "markdown",
   "metadata": {},
   "source": [
    "### Quiz"
   ]
  },
  {
   "cell_type": "code",
   "execution_count": 11,
   "metadata": {},
   "outputs": [],
   "source": [
    "genome = list(Bio.SeqIO.parse('lambda_virus.fa', 'fasta')).pop().seq"
   ]
  },
  {
   "cell_type": "code",
   "execution_count": 12,
   "metadata": {},
   "outputs": [
    {
     "data": {
      "text/plain": [
       "306"
      ]
     },
     "execution_count": 12,
     "metadata": {},
     "output_type": "execute_result"
    }
   ],
   "source": [
    "# Question 1\n",
    "target = Seq('AGGT')\n",
    "occurences = naive_rc(genome, target)\n",
    "len(occurences)"
   ]
  },
  {
   "cell_type": "code",
   "execution_count": 13,
   "metadata": {},
   "outputs": [
    {
     "data": {
      "text/plain": [
       "195"
      ]
     },
     "execution_count": 13,
     "metadata": {},
     "output_type": "execute_result"
    }
   ],
   "source": [
    "# Question 2\n",
    "target = Seq('TTAA')\n",
    "occurences = naive_rc(genome, target)\n",
    "len(occurences)"
   ]
  },
  {
   "cell_type": "code",
   "execution_count": 14,
   "metadata": {},
   "outputs": [
    {
     "data": {
      "text/plain": [
       "26028"
      ]
     },
     "execution_count": 14,
     "metadata": {},
     "output_type": "execute_result"
    }
   ],
   "source": [
    "# Question 3\n",
    "target = Seq('ACTAAGT')\n",
    "occurences = naive_rc(genome, target)\n",
    "min(occurences)"
   ]
  },
  {
   "cell_type": "code",
   "execution_count": 15,
   "metadata": {},
   "outputs": [
    {
     "data": {
      "text/plain": [
       "450"
      ]
     },
     "execution_count": 15,
     "metadata": {},
     "output_type": "execute_result"
    }
   ],
   "source": [
    "# Question 4\n",
    "target = Seq('AGTCGA')\n",
    "occurences = naive_rc(genome, target)\n",
    "min(occurences)"
   ]
  },
  {
   "cell_type": "code",
   "execution_count": 16,
   "metadata": {},
   "outputs": [
    {
     "data": {
      "text/plain": [
       "191"
      ]
     },
     "execution_count": 16,
     "metadata": {},
     "output_type": "execute_result"
    }
   ],
   "source": [
    "# Question 5\n",
    "target = Seq('TTCAAGCC')\n",
    "occurrences = naive_mismatch(genome, target)\n",
    "len(occurrences)"
   ]
  },
  {
   "cell_type": "code",
   "execution_count": 17,
   "metadata": {},
   "outputs": [
    {
     "data": {
      "text/plain": [
       "49"
      ]
     },
     "execution_count": 17,
     "metadata": {},
     "output_type": "execute_result"
    }
   ],
   "source": [
    "# Question 6\n",
    "target = Seq('AGGAGGTT')\n",
    "occurrences = naive_mismatch(genome, target)\n",
    "min(occurrences)"
   ]
  },
  {
   "cell_type": "code",
   "execution_count": 18,
   "metadata": {},
   "outputs": [
    {
     "name": "stdout",
     "output_type": "stream",
     "text": [
      "--2018-12-22 21:50:48--  https://d28rh4a8wq0iu5.cloudfront.net/ads1/data/ERR037900_1.first1000.fastq\n",
      "Resolving d28rh4a8wq0iu5.cloudfront.net... 52.85.83.57, 52.85.83.80, 52.85.83.108, ...\n",
      "Connecting to d28rh4a8wq0iu5.cloudfront.net|52.85.83.57|:443... connected.\n",
      "HTTP request sent, awaiting response... 200 OK\n",
      "Length: 241626 (236K) [application/octet-stream]\n",
      "Saving to: ‘ERR037900_1.first1000.fastq’\n",
      "\n",
      "ERR037900_1.first10 100%[===================>] 235.96K  --.-KB/s    in 0.1s    \n",
      "\n",
      "2018-12-22 21:50:48 (2.25 MB/s) - ‘ERR037900_1.first1000.fastq’ saved [241626/241626]\n",
      "\n"
     ]
    }
   ],
   "source": [
    "# Question 7\n",
    "!wget https://d28rh4a8wq0iu5.cloudfront.net/ads1/data/ERR037900_1.first1000.fastq\n",
    "err_genome = list(Bio.SeqIO.parse('ERR037900_1.first1000.fastq', 'fastq'))\n"
   ]
  },
  {
   "cell_type": "code",
   "execution_count": 19,
   "metadata": {},
   "outputs": [],
   "source": [
    "# Convert phred_quality into a 2d numpy array for faster processing\n",
    "import numpy as np\n",
    "\n",
    "phred_quality = np.array(\n",
    "    [s.letter_annotations['phred_quality'] for s in err_genome]\n",
    ")\n",
    "\n",
    "mean_quality = phred_quality.mean(axis=0)"
   ]
  },
  {
   "cell_type": "code",
   "execution_count": 20,
   "metadata": {},
   "outputs": [
    {
     "data": {
      "text/plain": [
       "(array([66]),)"
      ]
     },
     "execution_count": 20,
     "metadata": {},
     "output_type": "execute_result"
    }
   ],
   "source": [
    "np.where(mean_quality == mean_quality.min())"
   ]
  },
  {
   "cell_type": "code",
   "execution_count": 21,
   "metadata": {},
   "outputs": [
    {
     "data": {
      "text/plain": [
       "array([30.805, 30.666, 30.343, 30.131, 29.463, 17.891,  4.526, 17.881,\n",
       "       17.865, 17.852])"
      ]
     },
     "execution_count": 21,
     "metadata": {},
     "output_type": "execute_result"
    }
   ],
   "source": [
    "mean_quality[60:70]"
   ]
  },
  {
   "cell_type": "code",
   "execution_count": 1,
   "metadata": {},
   "outputs": [
    {
     "ename": "SyntaxError",
     "evalue": "invalid syntax (<ipython-input-1-75d8630360ff>, line 1)",
     "output_type": "error",
     "traceback": [
      "\u001b[0;36m  File \u001b[0;32m\"<ipython-input-1-75d8630360ff>\"\u001b[0;36m, line \u001b[0;32m1\u001b[0m\n\u001b[0;31m    [1:1:10]\u001b[0m\n\u001b[0m      ^\u001b[0m\n\u001b[0;31mSyntaxError\u001b[0m\u001b[0;31m:\u001b[0m invalid syntax\n"
     ]
    }
   ],
   "source": [
    "[1:1:10]"
   ]
  },
  {
   "cell_type": "code",
   "execution_count": null,
   "metadata": {},
   "outputs": [],
   "source": []
  }
 ],
 "metadata": {
  "kernelspec": {
   "display_name": "Python 3",
   "language": "python",
   "name": "python3"
  },
  "language_info": {
   "codemirror_mode": {
    "name": "ipython",
    "version": 3
   },
   "file_extension": ".py",
   "mimetype": "text/x-python",
   "name": "python",
   "nbconvert_exporter": "python",
   "pygments_lexer": "ipython3",
   "version": "3.6.4"
  }
 },
 "nbformat": 4,
 "nbformat_minor": 2
}
